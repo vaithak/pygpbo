{
  "nbformat": 4,
  "nbformat_minor": 0,
  "metadata": {
    "colab": {
      "name": "AleboGP.ipynb",
      "provenance": [],
      "collapsed_sections": []
    },
    "kernelspec": {
      "name": "python3",
      "display_name": "Python 3"
    },
    "language_info": {
      "name": "python"
    }
  },
  "cells": [
    {
      "cell_type": "code",
      "metadata": {
        "colab": {
          "base_uri": "https://localhost:8080/"
        },
        "id": "N1n3QPLfkDBW",
        "outputId": "d750ef7b-8270-4bae-ceae-cd61a461ead3"
      },
      "source": [
        "import numpy as np\n",
        "import torch\n",
        "import math\n",
        "!pip install gpytorch\n",
        "import gpytorch\n",
        "from gpytorch.kernels.rbf_kernel import postprocess_rbf\n",
        "from matplotlib import pyplot as plt\n",
        "\n",
        "from collections import OrderedDict"
      ],
      "execution_count": 1,
      "outputs": [
        {
          "output_type": "stream",
          "text": [
            "Collecting gpytorch\n",
            "\u001b[?25l  Downloading https://files.pythonhosted.org/packages/0f/d0/96634a8ae84b08bd64709c1abd4f319a70f404967c598690bca8be143fb8/gpytorch-1.4.0.tar.gz (286kB)\n",
            "\r\u001b[K     |█▏                              | 10kB 15.6MB/s eta 0:00:01\r\u001b[K     |██▎                             | 20kB 20.7MB/s eta 0:00:01\r\u001b[K     |███▍                            | 30kB 25.3MB/s eta 0:00:01\r\u001b[K     |████▋                           | 40kB 28.4MB/s eta 0:00:01\r\u001b[K     |█████▊                          | 51kB 30.8MB/s eta 0:00:01\r\u001b[K     |██████▉                         | 61kB 27.2MB/s eta 0:00:01\r\u001b[K     |████████                        | 71kB 25.2MB/s eta 0:00:01\r\u001b[K     |█████████▏                      | 81kB 22.6MB/s eta 0:00:01\r\u001b[K     |██████████▎                     | 92kB 24.0MB/s eta 0:00:01\r\u001b[K     |███████████▌                    | 102kB 21.1MB/s eta 0:00:01\r\u001b[K     |████████████▋                   | 112kB 21.1MB/s eta 0:00:01\r\u001b[K     |█████████████▊                  | 122kB 21.1MB/s eta 0:00:01\r\u001b[K     |██████████████▉                 | 133kB 21.1MB/s eta 0:00:01\r\u001b[K     |████████████████                | 143kB 21.1MB/s eta 0:00:01\r\u001b[K     |█████████████████▏              | 153kB 21.1MB/s eta 0:00:01\r\u001b[K     |██████████████████▎             | 163kB 21.1MB/s eta 0:00:01\r\u001b[K     |███████████████████▌            | 174kB 21.1MB/s eta 0:00:01\r\u001b[K     |████████████████████▋           | 184kB 21.1MB/s eta 0:00:01\r\u001b[K     |█████████████████████▊          | 194kB 21.1MB/s eta 0:00:01\r\u001b[K     |███████████████████████         | 204kB 21.1MB/s eta 0:00:01\r\u001b[K     |████████████████████████        | 215kB 21.1MB/s eta 0:00:01\r\u001b[K     |█████████████████████████▏      | 225kB 21.1MB/s eta 0:00:01\r\u001b[K     |██████████████████████████▎     | 235kB 21.1MB/s eta 0:00:01\r\u001b[K     |███████████████████████████▌    | 245kB 21.1MB/s eta 0:00:01\r\u001b[K     |████████████████████████████▋   | 256kB 21.1MB/s eta 0:00:01\r\u001b[K     |█████████████████████████████▊  | 266kB 21.1MB/s eta 0:00:01\r\u001b[K     |███████████████████████████████ | 276kB 21.1MB/s eta 0:00:01\r\u001b[K     |████████████████████████████████| 286kB 21.1MB/s \n",
            "\u001b[?25hBuilding wheels for collected packages: gpytorch\n",
            "  Building wheel for gpytorch (setup.py) ... \u001b[?25l\u001b[?25hdone\n",
            "  Created wheel for gpytorch: filename=gpytorch-1.4.0-py2.py3-none-any.whl size=477826 sha256=2c4384f9a1c35053af9a3cf76b82073e20237020bb6f724acaae258311ced8bf\n",
            "  Stored in directory: /root/.cache/pip/wheels/fd/f5/39/404e1875f841e8a999e94a7efa17f6ef900298be5452b63b0c\n",
            "Successfully built gpytorch\n",
            "Installing collected packages: gpytorch\n",
            "Successfully installed gpytorch-1.4.0\n"
          ],
          "name": "stdout"
        }
      ]
    },
    {
      "cell_type": "code",
      "metadata": {
        "id": "B4GTLXyml8iS"
      },
      "source": [
        "\n",
        "def function(X,noise=0):\n",
        "  def func(x):\n",
        "    return (math.pow((x[1]-5.1/(4*math.pow(3.14,2))*math.pow(x[0],2)+5/3.14*x[0]-6),2)+10*(1-1/(8*3.14))*math.cos(x[0])+10)*math.sin(x[2]/5)\n",
        "  return torch.tensor(np.apply_along_axis(func, 1, X).reshape(-1,1),dtype = torch.float32)\n",
        "\n",
        "def get_proj_matrix(D,d,hypersphere=0):\n",
        "  A = np.random.normal(0,1,(d,D))\n",
        "  if hypersphere==1:\n",
        "    for row in range(d):\n",
        "      N = np.linalg.norm(A[row,:])\n",
        "      A[row,:] = A[row,:]/N\n",
        "  return A\n",
        "\n",
        "\n",
        "\n",
        "class AleboKernel(gpytorch.kernels.Kernel):\n",
        "  def __init__(self,B):\n",
        "    super().__init__(has_length=False,ard_num_dims=None,eps=0.0)\n",
        "    self.d = B.shape[0]\n",
        "    self.D = B.shape[1]\n",
        "    self.B = B\n",
        "    self.Binv = torch.pinverse(B)\n",
        "    # self.dtype = B.dtype\n",
        "    # self.batch_shape = batch_shape\n",
        "\n",
        "    A = torch.qr(torch.randn(self.D,self.D))[0]\n",
        "    ABinv = A[:self.d,:] @ self.Binv\n",
        "    T = ABinv.t() @ ABinv\n",
        "    U = torch.cholesky(T,upper = True)\n",
        "    self.idx = U.nonzero().t().tolist()\n",
        "    Uvec = U[self.idx]#.repeat(*batch_shape,1)\n",
        "    self.register_parameter(name = \"Uvec\",parameter=torch.nn.Parameter(Uvec))\n",
        "    \n",
        "  def forward(self,x1,x2,**params):\n",
        "    U_t = torch.zeros(self.Uvec.shape[:-1]+torch.Size([self.d,self.d]))\n",
        "    U_t[...,self.idx[1],self.idx[0]] = self.Uvec\n",
        "\n",
        "    z1 = x1 @ U_t\n",
        "    z2 = x2 @ U_t\n",
        "\n",
        "    return self.covar_dist(z1,z2,square_dist=True,dist_postprocess_func=postprocess_rbf,**params)\n",
        "\n",
        "class AleboGP(gpytorch.models.ExactGP):\n",
        "  def __init__(self, train_x, train_y, likelihood,B):\n",
        "    super().__init__(train_x, train_y, likelihood)\n",
        "    self.covar_module = gpytorch.kernels.ScaleKernel(base_kernel=AleboKernel(B=B))\n",
        "    self.mean_module = gpytorch.means.ConstantMean()\n",
        "  def forward(self,x):\n",
        "    mean_x = self.mean_module(x)\n",
        "    covar_x = self.covar_module(x)\n",
        "    return gpytorch.distributions.MultivariateNormal(mean_x, covar_x)\n",
        "\n",
        "\n",
        "\n",
        "batch_shape = torch.Size([1])\n",
        "a1 = torch.linspace(-5, 10, 10)\n",
        "a2 = torch.linspace(0, 15, 10)\n",
        "a3 = torch.linspace(-5,5,10)\n",
        "train_x = torch.zeros((10*10*10,3),dtype=torch.float32)\n",
        "ctr=0\n",
        "for i1 in a1:\n",
        "    for i2 in a2:\n",
        "        for i3 in a3:\n",
        "            train_x[ctr,0] = i1\n",
        "            train_x[ctr,1] = i2\n",
        "            train_x[ctr,2] = i3\n",
        "            ctr+=1\n",
        "B = torch.tensor(get_proj_matrix(3,2,1),dtype=torch.float32)\n",
        "train_x_d = (train_x @ B.t())\n",
        "train_y = function(train_x)\n",
        "train_y = train_y.squeeze(1)\n",
        "likelihood = gpytorch.likelihoods.GaussianLikelihood()\n",
        "model = AleboGP(train_x_d, train_y, likelihood,B)\n"
      ],
      "execution_count": 109,
      "outputs": []
    },
    {
      "cell_type": "code",
      "metadata": {
        "id": "hiwpMOWdOZTm"
      },
      "source": [
        "def double_derivative(i,epsilon_i,m1,m2,l1,l2,train_x,train_y,training_iter):\n",
        "    '''Function which takes the models m1 and m2 (m2 is for m1+epsilon)\n",
        "        and returns the double derivative for i-th component'''\n",
        "    m1,l1 = train(m1,l1,train_x,train_y,training_iter)\n",
        "    m2,l2 = train(m2,l2,train_x,train_y,training_iter)\n",
        "    g1 = (m1.covar_module.base_kernel.Uvec.grad)\n",
        "    g2 = (m2.covar_module.base_kernel.Uvec.grad)\n",
        "    return (g2[i] - g1[i])/epsilon_i\n",
        "\n",
        "def train(model,likelihood,train_x,train_y,training_iter=50):\n",
        "# training_iter = 50\n",
        "  model.train()\n",
        "  likelihood.train()\n",
        "\n",
        "  optimizer = torch.optim.Adam(model.parameters(), lr=0.1) \n",
        "\n",
        "  mll = gpytorch.mlls.ExactMarginalLogLikelihood(likelihood, model)\n",
        "\n",
        "\n",
        "  for i in range(training_iter):\n",
        "      optimizer.zero_grad()\n",
        "      output = model(train_x)\n",
        "  \n",
        "      loss = -mll(output, train_y).sum()\n",
        "      loss.backward()\n",
        "      optimizer.step()\n",
        "      params_dict = OrderedDict(mll.named_parameters())\n",
        "\n",
        "  model.eval()\n",
        "  likelihood.eval()\n",
        "\n",
        "  return model,likelihood\n",
        "\n",
        "model,likelihood = train(model,likelihood,train_x_d,train_y,1)"
      ],
      "execution_count": 110,
      "outputs": []
    },
    {
      "cell_type": "code",
      "metadata": {
        "id": "gc-_keiie6Z0",
        "colab": {
          "base_uri": "https://localhost:8080/"
        },
        "outputId": "dfcb4af8-c805-4108-d966-ddfc2d8ca01a"
      },
      "source": [
        "def get_r2_square(model,likelihood,train_x,train_y):\n",
        "  observed_pred = likelihood(model(train_x))\n",
        "  lower,upper = observed_pred.confidence_region()\n",
        "  r2_square = 0\n",
        "  sum_diff = 0\n",
        "  for i in range(train_x.shape[0]):\n",
        "    r2_square += (observed_pred.mean[i].detach().numpy()-train_y[i].numpy())**2\n",
        "  sum_diff += np.sum(upper.detach().numpy())-np.sum(lower.detach().numpy())\n",
        "\n",
        "  return r2_square,sum_diff\n",
        "    \n",
        "def get_best_fit_gp(train_x,train_y,n_trials=10):\n",
        "  ## Use MLL if it gives poor result.\n",
        "  best_state = {}\n",
        "  r2_square = 1e9\n",
        "  for i in range(n_trials):\n",
        "    likelihood = gpytorch.likelihoods.GaussianLikelihood()\n",
        "    model = AleboGP(train_x, train_y, likelihood,B)\n",
        "    model,likelihood = train(model,likelihood,train_x,train_y)\n",
        "    print(model(train_x))\n",
        "    r2_square_i,sum_diff_i = get_r2_square(model,likelihood,train_x,train_y)\n",
        "\n",
        "    if r2_square_i < r2_square:\n",
        "      best_state = model.state_dict()\n",
        "      r2_square = r2_square_i\n",
        "  \n",
        "  best_likelihood =gpytorch.likelihoods.GaussianLikelihood()\n",
        "  best_model = AleboGP(train_x, train_y, likelihood,B)\n",
        "  best_model.state_dict(best_state)\n",
        "\n",
        "  return best_likelihood,best_model\n",
        "\n",
        "\n",
        "# def sample_U(likelihood,model,nsamp=10):\n",
        "  # return list of Uvec for each model\n",
        "likelihood, model = get_best_fit_gp(train_x @ B.t(),train_y)\n",
        "\n"
      ],
      "execution_count": 111,
      "outputs": [
        {
          "output_type": "stream",
          "text": [
            "/usr/local/lib/python3.7/dist-packages/gpytorch/models/exact_gp.py:275: GPInputWarning: The input matches the stored training data. Did you forget to call model.train()?\n",
            "  GPInputWarning,\n"
          ],
          "name": "stderr"
        },
        {
          "output_type": "stream",
          "text": [
            "MultivariateNormal(loc: torch.Size([1000]))\n",
            "MultivariateNormal(loc: torch.Size([1000]))\n",
            "MultivariateNormal(loc: torch.Size([1000]))\n",
            "MultivariateNormal(loc: torch.Size([1000]))\n",
            "MultivariateNormal(loc: torch.Size([1000]))\n",
            "MultivariateNormal(loc: torch.Size([1000]))\n",
            "MultivariateNormal(loc: torch.Size([1000]))\n",
            "MultivariateNormal(loc: torch.Size([1000]))\n",
            "MultivariateNormal(loc: torch.Size([1000]))\n",
            "MultivariateNormal(loc: torch.Size([1000]))\n"
          ],
          "name": "stdout"
        }
      ]
    },
    {
      "cell_type": "code",
      "metadata": {
        "id": "pTBhEaTo88bU"
      },
      "source": [
        "def get_grad(model,likelihood,x0):\n",
        "  ## x0 is the model parameter at which we have to return  grad\n",
        "\n",
        "  model.train()\n",
        "  likelihood.train()\n",
        "\n",
        "\n",
        "  mll = gpytorch.mlls.ExactMarginalLogLikelihood(likelihood, model)\n",
        "  mll = set_param(mll,x0)\n",
        "  Uvev_0 = np.array([])\n",
        "  for x in mll.named_parameters():\n",
        "    param_name = x[0]\n",
        "    # param_grad = \n",
        "  \n",
        "  "
      ],
      "execution_count": 112,
      "outputs": []
    },
    {
      "cell_type": "code",
      "metadata": {
        "colab": {
          "base_uri": "https://localhost:8080/",
          "height": 317
        },
        "id": "7yTaU6Od992q",
        "outputId": "0f1e3e16-b5d2-4742-a253-6caa0ee61e01"
      },
      "source": [
        "model.eval()\n",
        "likelihood.eval()\n",
        "\n",
        "observed_pred = likelihood(model(train_x @ B.t()))\n",
        "lower,upper = observed_pred.confidence_region()\n",
        "\n",
        "\n",
        "plt.plot(train_y, observed_pred.mean.detach().numpy(),'bo' ,label=\"Pred\")\n",
        "plt.plot(train_y,train_y,label='Ideal')\n",
        "plt.legend()"
      ],
      "execution_count": 113,
      "outputs": [
        {
          "output_type": "stream",
          "text": [
            "/usr/local/lib/python3.7/dist-packages/gpytorch/models/exact_gp.py:275: GPInputWarning: The input matches the stored training data. Did you forget to call model.train()?\n",
            "  GPInputWarning,\n"
          ],
          "name": "stderr"
        },
        {
          "output_type": "execute_result",
          "data": {
            "text/plain": [
              "<matplotlib.legend.Legend at 0x7f4aca1e8c10>"
            ]
          },
          "metadata": {
            "tags": []
          },
          "execution_count": 113
        },
        {
          "output_type": "display_data",
          "data": {
            "image/png": "[encoded data removed]",
            "text/plain": [
              "<Figure size 432x288 with 1 Axes>"
            ]
          },
          "metadata": {
            "tags": [],
            "needs_background": "light"
          }
        }
      ]
    },
    {
      "cell_type": "code",
      "metadata": {
        "id": "kzLVvlj0C-k6"
      },
      "source": [
        ""
      ],
      "execution_count": 79,
      "outputs": []
    }
  ]
}