{
  "nbformat": 4,
  "nbformat_minor": 0,
  "metadata": {
    "colab": {
      "name": "AleboGP.ipynb",
      "provenance": [],
      "collapsed_sections": []
    },
    "kernelspec": {
      "name": "python3",
      "display_name": "Python 3"
    },
    "language_info": {
      "name": "python"
    }
  },
  "cells": [
    {
      "cell_type": "code",
      "metadata": {
        "colab": {
          "base_uri": "https://localhost:8080/"
        },
        "id": "N1n3QPLfkDBW",
        "outputId": "07998e55-1f3f-42d8-e46b-3652be1c4fa0"
      },
      "source": [
        "import torch\n",
        "!pip install gpytorch\n",
        "import gpytorch\n",
        "from gpytorch.kernels.rbf_kernel import postprocess_rbf"
      ],
      "execution_count": 40,
      "outputs": [
        {
          "output_type": "stream",
          "text": [
            "Requirement already satisfied: gpytorch in /usr/local/lib/python3.7/dist-packages (1.4.0)\n"
          ],
          "name": "stdout"
        }
      ]
    },
    {
      "cell_type": "code",
      "metadata": {
        "id": "B4GTLXyml8iS"
      },
      "source": [
        "class AleboKernel(gpytorch.kernels.Kernel):\n",
        "  def __init__(self,B,batch_shape):\n",
        "    super().__init__(has_length=False,ard_num_dims=None,eps=0.0,batch_shape=batch_shape)\n",
        "    self.d = B.shape[0]\n",
        "    self.D = B.shape[1]\n",
        "    self.B = B\n",
        "    self.Binv = torch.pinverse(B)\n",
        "    self.dtype = B.dtype\n",
        "    self.batch_shape = batch_shape\n",
        "\n",
        "    A = torch.qr(torch.randn(self.D,self.D,dtype = self.dtype))[0]\n",
        "    ABinv = A[:self.d,:] @ self.Binv\n",
        "    T = ABinv.t() @ ABinv\n",
        "    U = torch.cholesky(T,upper = True)\n",
        "    self.idx = U.nonzero().t().tolist()\n",
        "    self.Uvec = U[idx].repeat(*batch_shape,1)\n",
        "    self.register_parameter(name = \"Uvec\",torch.nn.Parameter(Uvec))\n",
        "    \n",
        "  def forward(self,x1,x2,**params):\n",
        "    U_t = torch.zeros((self.Uvec.shape[:-1],self.d,self.d),dtype = self.dtype)\n",
        "    U_t[...,self.idx[1],self.idx[0]] = self.Uvec\n",
        "\n",
        "    z1 = x1 @ U_t\n",
        "    z2 = x2 @ U_t\n",
        "\n",
        "    return self.covar_dist(z1,z2,square_dist=True,dist_postprocess_func=postprocess_rbf,**params)\n",
        "\n",
        "# class AleboGP()\n"
      ],
      "execution_count": null,
      "outputs": []
    },
    {
      "cell_type": "code",
      "metadata": {
        "colab": {
          "base_uri": "https://localhost:8080/"
        },
        "id": "2yAddlX2BtOn",
        "outputId": "d098fc5b-5e10-4b02-d277-ee53c6d67a2c"
      },
      "source": [
        "# B = torch.randn((2,3))\n",
        "# A = torch.qr(torch.randn(3,3))[0]\n",
        "# ABinv = A[:2,:] @ torch.pinverse(B)\n",
        "# T = ABinv.t() @ ABinv\n",
        "# U = torch.cholesky(T,upper = True)\n",
        "# triu_idx = torch.triu_indices(2,2)\n",
        "# print(U.shape)\n",
        "# print(triu_idx.tolist())\n",
        "# Uvec = U[triu_idx.tolist()].repeat(5,1)\n",
        "# print(Uvec,U)"
      ],
      "execution_count": 37,
      "outputs": [
        {
          "output_type": "stream",
          "text": [
            "torch.Size([2, 2])\n",
            "[[0, 0, 1], [0, 1, 1]]\n",
            "tensor([[ 0.7766, -0.0938,  0.5994],\n",
            "        [ 0.7766, -0.0938,  0.5994],\n",
            "        [ 0.7766, -0.0938,  0.5994],\n",
            "        [ 0.7766, -0.0938,  0.5994],\n",
            "        [ 0.7766, -0.0938,  0.5994]]) tensor([[ 0.7766, -0.0938],\n",
            "        [ 0.0000,  0.5994]])\n"
          ],
          "name": "stdout"
        }
      ]
    },
    {
      "cell_type": "code",
      "metadata": {
        "id": "hiwpMOWdOZTm"
      },
      "source": [
        ""
      ],
      "execution_count": null,
      "outputs": []
    }
  ]
}