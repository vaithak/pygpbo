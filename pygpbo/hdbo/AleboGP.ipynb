{
  "nbformat": 4,
  "nbformat_minor": 0,
  "metadata": {
    "colab": {
      "name": "AleboGP.ipynb",
      "provenance": [],
      "collapsed_sections": []
    },
    "kernelspec": {
      "name": "python3",
      "display_name": "Python 3"
    },
    "language_info": {
      "name": "python"
    }
  },
  "cells": [
    {
      "cell_type": "code",
      "metadata": {
        "colab": {
          "base_uri": "https://localhost:8080/"
        },
        "id": "N1n3QPLfkDBW",
        "outputId": "aaa70d5f-de13-408d-cdee-ebda5603762a"
      },
      "source": [
        "import numpy as np\n",
        "import torch\n",
        "import math\n",
        "!pip install gpytorch\n",
        "import gpytorch\n",
        "from gpytorch.kernels.rbf_kernel import postprocess_rbf"
      ],
      "execution_count": 2,
      "outputs": [
        {
          "output_type": "stream",
          "text": [
            "Collecting gpytorch\n",
            "\u001b[?25l  Downloading https://files.pythonhosted.org/packages/0f/d0/96634a8ae84b08bd64709c1abd4f319a70f404967c598690bca8be143fb8/gpytorch-1.4.0.tar.gz (286kB)\n",
            "\r\u001b[K     |█▏                              | 10kB 6.8MB/s eta 0:00:01\r\u001b[K     |██▎                             | 20kB 11.0MB/s eta 0:00:01\r\u001b[K     |███▍                            | 30kB 11.2MB/s eta 0:00:01\r\u001b[K     |████▋                           | 40kB 10.9MB/s eta 0:00:01\r\u001b[K     |█████▊                          | 51kB 12.6MB/s eta 0:00:01\r\u001b[K     |██████▉                         | 61kB 10.8MB/s eta 0:00:01\r\u001b[K     |████████                        | 71kB 10.7MB/s eta 0:00:01\r\u001b[K     |█████████▏                      | 81kB 11.7MB/s eta 0:00:01\r\u001b[K     |██████████▎                     | 92kB 12.0MB/s eta 0:00:01\r\u001b[K     |███████████▌                    | 102kB 12.7MB/s eta 0:00:01\r\u001b[K     |████████████▋                   | 112kB 12.7MB/s eta 0:00:01\r\u001b[K     |█████████████▊                  | 122kB 12.7MB/s eta 0:00:01\r\u001b[K     |██████████████▉                 | 133kB 12.7MB/s eta 0:00:01\r\u001b[K     |████████████████                | 143kB 12.7MB/s eta 0:00:01\r\u001b[K     |█████████████████▏              | 153kB 12.7MB/s eta 0:00:01\r\u001b[K     |██████████████████▎             | 163kB 12.7MB/s eta 0:00:01\r\u001b[K     |███████████████████▌            | 174kB 12.7MB/s eta 0:00:01\r\u001b[K     |████████████████████▋           | 184kB 12.7MB/s eta 0:00:01\r\u001b[K     |█████████████████████▊          | 194kB 12.7MB/s eta 0:00:01\r\u001b[K     |███████████████████████         | 204kB 12.7MB/s eta 0:00:01\r\u001b[K     |████████████████████████        | 215kB 12.7MB/s eta 0:00:01\r\u001b[K     |█████████████████████████▏      | 225kB 12.7MB/s eta 0:00:01\r\u001b[K     |██████████████████████████▎     | 235kB 12.7MB/s eta 0:00:01\r\u001b[K     |███████████████████████████▌    | 245kB 12.7MB/s eta 0:00:01\r\u001b[K     |████████████████████████████▋   | 256kB 12.7MB/s eta 0:00:01\r\u001b[K     |█████████████████████████████▊  | 266kB 12.7MB/s eta 0:00:01\r\u001b[K     |███████████████████████████████ | 276kB 12.7MB/s eta 0:00:01\r\u001b[K     |████████████████████████████████| 286kB 12.7MB/s \n",
            "\u001b[?25hBuilding wheels for collected packages: gpytorch\n",
            "  Building wheel for gpytorch (setup.py) ... \u001b[?25l\u001b[?25hdone\n",
            "  Created wheel for gpytorch: filename=gpytorch-1.4.0-py2.py3-none-any.whl size=477826 sha256=5d7b4daec7f1a021174589e5480db84649cdb92b57d65b1580796b75393497d0\n",
            "  Stored in directory: /root/.cache/pip/wheels/fd/f5/39/404e1875f841e8a999e94a7efa17f6ef900298be5452b63b0c\n",
            "Successfully built gpytorch\n",
            "Installing collected packages: gpytorch\n",
            "Successfully installed gpytorch-1.4.0\n"
          ],
          "name": "stdout"
        }
      ]
    },
    {
      "cell_type": "code",
      "metadata": {
        "id": "B4GTLXyml8iS"
      },
      "source": [
        "# train_x = torch.linspace(0, 1, 100)\n",
        "# train_y = torch.sin(train_x * (2 * math.pi)) + torch.randn(train_x.size()) * math.sqrt(0.04)\n",
        "train_x = torch.linspace(-2, 2, 20)\n",
        "train_y = torch.sin(train_x)+train_x\n",
        "\n",
        "\n",
        "def get_proj_matrix(D,d,hypersphere=0):\n",
        "  A = np.random.normal(0,1,(D,d))\n",
        "  if hypersphere==1:\n",
        "    for row in range(D):\n",
        "      N = np.linalg.norm(A[row,:])\n",
        "      A[row,:] = A[row,:]/N\n",
        "  return A\n",
        "\n",
        "\n",
        "class AleboKernel(gpytorch.kernels.Kernel):\n",
        "  def __init__(self,B,batch_shape):\n",
        "    super().__init__(has_length=False,ard_num_dims=None,eps=0.0,batch_shape=batch_shape)\n",
        "    self.d = B.shape[0]\n",
        "    self.D = B.shape[1]\n",
        "    self.B = B\n",
        "    self.Binv = torch.pinverse(B)\n",
        "    # self.dtype = B.dtype\n",
        "    self.batch_shape = batch_shape\n",
        "\n",
        "    A = torch.qr(torch.randn(self.D,self.D))[0]\n",
        "    ABinv = A[:self.d,:] @ self.Binv\n",
        "    T = ABinv.t() @ ABinv\n",
        "    U = torch.cholesky(T,upper = True)\n",
        "    self.idx = U.nonzero().t().tolist()\n",
        "    self.Uvec = U[self.idx].repeat(*batch_shape,1)\n",
        "    self.register_parameter(name = \"UVec\",parameter=torch.nn.Parameter(self.Uvec))\n",
        "    \n",
        "  def forward(self,x1,x2,**params):\n",
        "    U_t = torch.zeros(self.Uvec.shape[:-1]+torch.Size([self.d,self.d]))\n",
        "    U_t[...,self.idx[1],self.idx[0]] = self.Uvec\n",
        "\n",
        "    z1 = x1 @ U_t\n",
        "    z2 = x2 @ U_t\n",
        "\n",
        "    return self.covar_dist(z1,z2,square_dist=True,dist_postprocess_func=postprocess_rbf,**params)\n",
        "\n",
        "class AleboGP(gpytorch.models.ExactGP):\n",
        "  def __init__(self, train_x, train_y, likelihood,B):\n",
        "    super().__init__(train_x, train_y, likelihood)\n",
        "    self.covar_module = gpytorch.kernels.ScaleKernel(base_kernel=AleboKernel(B=B, batch_shape=torch.Size([1])),batch_shape=torch.Size([1]))\n",
        "    self.mean_module = gpytorch.means.ConstantMean(batch_shape=torch.Size([1]))\n",
        "  def forward(self,x):\n",
        "    mean_x = self.mean_module(x)\n",
        "    covar_x = self.covar_module(x)\n",
        "    return gpytorch.distributions.MultivariateNormal(mean_x, covar_x)\n",
        "\n",
        "B = torch.tensor(get_proj_matrix(1,3,1),dtype=torch.float32)\n",
        "likelihood = gpytorch.likelihoods.GaussianLikelihood(batch_shape=torch.Size([1]))\n",
        "model = AleboGP(train_x, train_y, likelihood,B)\n",
        "\n"
      ],
      "execution_count": 3,
      "outputs": []
    },
    {
      "cell_type": "code",
      "metadata": {
        "id": "hiwpMOWdOZTm"
      },
      "source": [
        "def train(model,likelihood,train_x,train_y,training_iter=50):\n",
        "# training_iter = 50\n",
        "  model.train()\n",
        "  likelihood.train()\n",
        "\n",
        "  optimizer = torch.optim.Adam(model.parameters(), lr=0.1) \n",
        "\n",
        "  mll = gpytorch.mlls.ExactMarginalLogLikelihood(likelihood, model)\n",
        "\n",
        "\n",
        "  for i in range(training_iter):\n",
        "      optimizer.zero_grad()\n",
        "      output = model(train_x)\n",
        "\n",
        "      loss = -mll(output, train_y)\n",
        "      loss.backward()\n",
        "      optimizer.step()\n",
        "  \n",
        "  model.eval()\n",
        "  likelihood.eval()\n",
        "  \n",
        "  return model,likelihood\n"
      ],
      "execution_count": 4,
      "outputs": []
    },
    {
      "cell_type": "code",
      "metadata": {
        "id": "gc-_keiie6Z0"
      },
      "source": [
        "def get_r2_square(model,likelihood,train_x,train_y):\n",
        "  observed_pred = likelihood(model(train_x))\n",
        "  lower,upper = observed_pred.confidence_region()\n",
        "  r2_square = 0\n",
        "  # sum_diff = 0\n",
        "  for i in range(train_x.shape[0]):\n",
        "    r2_square += (observed_pred.mean[0][i].detach().numpy()-train_x[0][i].numpy())**2\n",
        "  sum_diff += np.sum(upper[0,:].detach().numpy())-np.sum(lower[0,:].detach().numpy())\n",
        "\n",
        "  return r2_square,sum_diff\n",
        "    \n",
        "def get_best_fit_gp(n_trials=10):\n",
        "  best_state = {}\n",
        "  r2_square = 1e9\n",
        "  for i in range(n_trials):\n",
        "    likelihood = gpytorch.likelihoods.GaussianLikelihood(batch_shape=torch.Size([1]))\n",
        "    model = AleboGP(train_x, train_y, likelihood,B)\n",
        "\n",
        "    model,likelihood = train(model,likelihood,train_x,train_y)\n",
        "\n",
        "    r2_square_i,sum_diff_i = get_r2_square(model,likelihood,train_x,train_y)\n",
        "\n",
        "    if r2_square_i < r2_square:\n",
        "      best_state = model.state_dict()\n",
        "      r2_square = r2_square_i\n",
        "  \n",
        "  best_likelihood =gpytorch.likelihoods.GaussianLikelihood(batch_shape=torch.Size([1]))\n",
        "  best_model = AleboGP(train_x, train_y, likelihood,B)\n",
        "  best_model.state_dict(best_state)\n",
        "\n",
        "  return best_likelihood,best_model\n",
        "\n",
        "\n",
        "def sample_U(likelihood,model,nsamp=10):\n",
        "  ## return list of Uvec for each model\n",
        "  \n"
      ],
      "execution_count": 8,
      "outputs": []
    },
    {
      "cell_type": "code",
      "metadata": {
        "colab": {
          "base_uri": "https://localhost:8080/",
          "height": 352
        },
        "id": "7yTaU6Od992q",
        "outputId": "9c6da8ba-c2f1-48ae-cf57-36cee9c93809"
      },
      "source": [
        "model.eval()\n",
        "likelihood.eval()\n",
        "\n",
        "test_x = torch.linspace(-2, 2, 200)\n",
        "test_y = torch.sin(test_x)+test_x\n",
        "plt.plot(test_x, test_y, label=\"True\")\n",
        "plt.plot(train_x,train_y,'o')\n",
        "observed_pred = likelihood(model(test_x))\n",
        "lower,upper = observed_pred.confidence_region()\n",
        "\n",
        "\n",
        "plt.plot(test_x, observed_pred.mean[0].detach().numpy(), label=\"Pred\")\n",
        "plt.fill_between(test_x.detach().numpy(), lower[0, :].detach().numpy(), upper[0, :].detach().numpy(), alpha=0.5)\n",
        "\n",
        "# plt.scatter(x, y, label=\"Obs\")\n",
        "plt.legend()"
      ],
      "execution_count": 85,
      "outputs": [
        {
          "output_type": "stream",
          "text": [
            "[1]\n",
            "torch.Size([1, 200, 1]) torch.Size([1, 220, 1])\n",
            "[1]\n",
            "torch.Size([20, 1]) torch.Size([20, 1])\n"
          ],
          "name": "stdout"
        },
        {
          "output_type": "execute_result",
          "data": {
            "text/plain": [
              "<matplotlib.legend.Legend at 0x7f2c95cc3490>"
            ]
          },
          "metadata": {
            "tags": []
          },
          "execution_count": 85
        },
        {
          "output_type": "display_data",
          "data": {
            "image/png": "[encoded data removed]",
            "text/plain": [
              "<Figure size 432x288 with 1 Axes>"
            ]
          },
          "metadata": {
            "tags": [],
            "needs_background": "light"
          }
        }
      ]
    },
    {
      "cell_type": "code",
      "metadata": {
        "colab": {
          "base_uri": "https://localhost:8080/"
        },
        "id": "5DMvPBmogfMn",
        "outputId": "e26a052f-7436-4ff6-9f4f-8520de9cc0f9"
      },
      "source": [
        "x=0\n",
        "y = np.array([1,1])\n",
        "np.sum(y)+x"
      ],
      "execution_count": 7,
      "outputs": [
        {
          "output_type": "execute_result",
          "data": {
            "text/plain": [
              "2"
            ]
          },
          "metadata": {
            "tags": []
          },
          "execution_count": 7
        }
      ]
    },
    {
      "cell_type": "code",
      "metadata": {
        "id": "ujMh4AjVg-wn"
      },
      "source": [
        ""
      ],
      "execution_count": null,
      "outputs": []
    }
  ]
}