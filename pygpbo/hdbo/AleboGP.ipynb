{
  "nbformat": 4,
  "nbformat_minor": 0,
  "metadata": {
    "colab": {
      "name": "AleboGP.ipynb",
      "provenance": [],
      "collapsed_sections": []
    },
    "kernelspec": {
      "name": "python3",
      "display_name": "Python 3"
    },
    "language_info": {
      "name": "python"
    }
  },
  "cells": [
    {
      "cell_type": "code",
      "metadata": {
        "colab": {
          "base_uri": "https://localhost:8080/"
        },
        "id": "N1n3QPLfkDBW",
        "outputId": "9a7cc5a9-a79f-44c6-b70a-433ae96d2d21"
      },
      "source": [
        "import numpy as np\n",
        "import torch\n",
        "import math\n",
        "!pip install gpytorch\n",
        "!pip install adabound\n",
        "import gpytorch\n",
        "from gpytorch.kernels.rbf_kernel import postprocess_rbf\n",
        "from matplotlib import pyplot as plt\n",
        "from scipy.optimize import minimize\n",
        "from collections import OrderedDict\n",
        "import copy\n",
        "import adabound"
      ],
      "execution_count": 117,
      "outputs": [
        {
          "output_type": "stream",
          "text": [
            "Requirement already satisfied: gpytorch in /usr/local/lib/python3.7/dist-packages (1.4.1)\n",
            "Requirement already satisfied: torch>=1.7 in /usr/local/lib/python3.7/dist-packages (from gpytorch) (1.8.1+cu101)\n",
            "Requirement already satisfied: scikit-learn in /usr/local/lib/python3.7/dist-packages (from gpytorch) (0.22.2.post1)\n",
            "Requirement already satisfied: scipy in /usr/local/lib/python3.7/dist-packages (from gpytorch) (1.4.1)\n",
            "Requirement already satisfied: numpy in /usr/local/lib/python3.7/dist-packages (from torch>=1.7->gpytorch) (1.19.5)\n",
            "Requirement already satisfied: typing-extensions in /usr/local/lib/python3.7/dist-packages (from torch>=1.7->gpytorch) (3.7.4.3)\n",
            "Requirement already satisfied: joblib>=0.11 in /usr/local/lib/python3.7/dist-packages (from scikit-learn->gpytorch) (1.0.1)\n",
            "Requirement already satisfied: adabound in /usr/local/lib/python3.7/dist-packages (0.0.5)\n",
            "Requirement already satisfied: torch>=0.4.0 in /usr/local/lib/python3.7/dist-packages (from adabound) (1.8.1+cu101)\n",
            "Requirement already satisfied: numpy in /usr/local/lib/python3.7/dist-packages (from torch>=0.4.0->adabound) (1.19.5)\n",
            "Requirement already satisfied: typing-extensions in /usr/local/lib/python3.7/dist-packages (from torch>=0.4.0->adabound) (3.7.4.3)\n"
          ],
          "name": "stdout"
        }
      ]
    },
    {
      "cell_type": "code",
      "metadata": {
        "id": "B4GTLXyml8iS"
      },
      "source": [
        "\n",
        "def function(X,noise=0):\n",
        "  def func(x):\n",
        "    return (math.pow((x[1]-5.1/(4*math.pow(3.14,2))*math.pow(x[0],2)+5/3.14*x[0]-6),2)+10*(1-1/(8*3.14))*math.cos(x[0])+10)*math.sin(x[2]/5)\n",
        "  return torch.tensor(np.apply_along_axis(func, 1, X).reshape(-1,1),dtype = torch.float32)\n",
        "\n",
        "batch_shape = torch.Size([1])\n",
        "a1 = torch.linspace(-5, 10, 4)\n",
        "a2 = torch.linspace(0, 15, 4)\n",
        "a3 = torch.linspace(-5,5,4)\n",
        "train_x = torch.zeros((4*4*4,3),dtype=torch.float32)\n",
        "ctr=0\n",
        "for i1 in a1:\n",
        "    for i2 in a2:\n",
        "        for i3 in a3:\n",
        "            train_x[ctr,0] = i1\n",
        "            train_x[ctr,1] = i2\n",
        "            train_x[ctr,2] = i3\n",
        "            ctr+=1\n",
        "\n",
        "def get_proj_matrix(D,d,hypersphere=0):\n",
        "  ''' Takes three arguments D : column size, d : row size and hypersphere = 0/1 (if hypersphere is 1 then sample each row of B from S^{D-1} else from N(0,1))\n",
        "  returns a random B matrix of shape d x D '''\n",
        "  A = np.random.normal(0,1,(d,D))\n",
        "  if hypersphere==1:\n",
        "    for row in range(d):\n",
        "      N = np.linalg.norm(A[row,:])\n",
        "      A[row,:] = A[row,:]/N\n",
        "  return A\n",
        "\n",
        "B = torch.tensor(get_proj_matrix(3,2,1),dtype=torch.float32)\n",
        "train_x_d = (train_x @ B.t())\n",
        "train_y = function(train_x)\n",
        "train_y = train_y.squeeze(1)\n",
        "\n",
        "\n",
        "\n",
        "\n",
        "class AleboKernel(gpytorch.kernels.Kernel):\n",
        "  ''' creates instances of alebo kernel in which distance metric is mahalonobis instead of euclidean distance.'''\n",
        "  def __init__(self,B):\n",
        "    super().__init__(has_length=False,ard_num_dims=None,eps=0.0)\n",
        "    self.d = B.shape[0]\n",
        "    self.D = B.shape[1]\n",
        "    self.B = B\n",
        "    self.Binv = torch.pinverse(B)\n",
        "    # self.dtype = B.dtype\n",
        "    # self.batch_shape = batch_shape\n",
        "\n",
        "    A = torch.qr(torch.randn(self.D,self.D))[0]\n",
        "    ABinv = A[:self.d,:] @ self.Binv\n",
        "    T = ABinv.t() @ ABinv\n",
        "    U = torch.cholesky(T,upper = True)\n",
        "    self.idx = U.nonzero().t().tolist()\n",
        "    Uvec = U[self.idx]#.repeat(*batch_shape,1)\n",
        "    # print(Uvec)\n",
        "    t = torch.tensor(2.0)\n",
        "    self.register_parameter(name = \"Uvec\",parameter=torch.nn.Parameter(Uvec))\n",
        "\n",
        "\n",
        "    \n",
        "  def forward(self,x1,x2,**params):\n",
        "    U_t = torch.zeros(self.Uvec.shape[:-1]+torch.Size([self.d,self.d]))\n",
        "    U_t[...,self.idx[1],self.idx[0]] = self.Uvec\n",
        "    z1 = x1 @ U_t\n",
        "    z2 = x2 @ U_t\n",
        "    return self.covar_dist(z1,z2,square_dist=True,dist_postprocess_func=postprocess_rbf,postprocess=True,**params)\n",
        "\n",
        "class AleboGP(gpytorch.models.ExactGP):\n",
        "  ''' Creates instance of Alebo GP by taking into account the mahalonobis kernel '''\n",
        "  def __init__(self, train_x, train_y, likelihood,B):\n",
        "    super().__init__(train_x, train_y, likelihood)\n",
        "    self.covar_module = gpytorch.kernels.ScaleKernel(base_kernel=AleboKernel(B=B))\n",
        "    self.mean_module = gpytorch.means.ConstantMean()\n",
        "  def forward(self,x):\n",
        "    mean_x = self.mean_module(x)\n",
        "    covar_x = self.covar_module(x)\n",
        "    return gpytorch.distributions.MultivariateNormal(mean_x, covar_x)\n",
        "\n",
        "\n"
      ],
      "execution_count": 96,
      "outputs": []
    },
    {
      "cell_type": "code",
      "metadata": {
        "colab": {
          "base_uri": "https://localhost:8080/"
        },
        "id": "hiwpMOWdOZTm",
        "outputId": "bc2114ca-a8f5-41cc-81e8-b181727d7801"
      },
      "source": [
        "\n",
        "def calc_grad(model,likelihood,train_x,train_y):\n",
        "  model.train()\n",
        "  likelihood.train()\n",
        "  optimizer = torch.optim.Adam(model.parameters(), lr=.01)\n",
        "  mll = gpytorch.mlls.ExactMarginalLogLikelihood(likelihood, model)\n",
        "\n",
        "  optimizer.zero_grad()\n",
        "  output = model(train_x)\n",
        "  loss = -mll(output, train_y).sum()\n",
        "  loss.backward()\n",
        "  optimizer.step()\n",
        "  \n",
        "  model.eval()\n",
        "  likelihood.eval()\n",
        "  return model.covar_module.base_kernel.Uvec.grad\n",
        "\n",
        "def train(model,likelihood,train_x,train_y,training_iter=4000):\n",
        "  ''' Takes model and training data and return the optimised parameter of the AleboGP model'''\n",
        "# training_iter = 50\n",
        "  model.train()\n",
        "  likelihood.train()\n",
        "  print(model.parameters())\n",
        "  for params in model.parameters():\n",
        "    print(params)\n",
        "  # optimizer = adabound.AdaBound(model.parameters(), lr=1.6,final_lr = 0.05)\n",
        "  optimizer = torch.optim.Adam(model.parameters(), lr=.01) \n",
        "\n",
        "  mll = gpytorch.mlls.ExactMarginalLogLikelihood(likelihood, model)\n",
        "\n",
        "\n",
        "  for i in range(training_iter):\n",
        "      optimizer.zero_grad()\n",
        "      output = model(train_x)\n",
        "  \n",
        "      loss = -mll(output, train_y).sum()\n",
        "      loss.backward()\n",
        "      optimizer.step()\n",
        "      params_dict = OrderedDict(mll.named_parameters())\n",
        "      # print(loss)\n",
        "      # print(params_dict)\n",
        "      # print(model.covar_module.base_kernel.)\n",
        "      # if i in [0,1]:\n",
        "        # for param_name, attr in params_dict.items():\n",
        "        #   print(param_name)\n",
        "        #   print(params_dict[param_name])\n",
        "        # print(params_dict[param_name].requires_grad)\n",
        "\n",
        "  \n",
        "  model.eval()\n",
        "  likelihood.eval()\n",
        "\n",
        "  return model,likelihood\n",
        "likelihood = gpytorch.likelihoods.GaussianLikelihood()\n",
        "model = AleboGP(train_x_d, train_y, likelihood,B)\n",
        "\n",
        "model,likelihood = train(model,likelihood,train_x_d,train_y)"
      ],
      "execution_count": 111,
      "outputs": [
        {
          "output_type": "stream",
          "text": [
            "<generator object Module.parameters at 0x7f6382cb0550>\n",
            "Parameter containing:\n",
            "tensor([0.], requires_grad=True)\n",
            "Parameter containing:\n",
            "tensor(0., requires_grad=True)\n",
            "Parameter containing:\n",
            "tensor([1.3049, 0.6363, 0.6967], requires_grad=True)\n",
            "Parameter containing:\n",
            "tensor([0.], requires_grad=True)\n"
          ],
          "name": "stdout"
        }
      ]
    },
    {
      "cell_type": "code",
      "metadata": {
        "id": "gc-_keiie6Z0"
      },
      "source": [
        "def get_r2_square(model,likelihood,train_x,train_y):\n",
        "  ''' takes mode and training data and calculates r2 square score for of the model on the data'''\n",
        "  observed_pred = likelihood(model(train_x))\n",
        "  lower,upper = observed_pred.confidence_region()\n",
        "  r2_square = 0\n",
        "  sum_diff = 0\n",
        "  for i in range(train_x.shape[0]):\n",
        "    r2_square += (observed_pred.mean[i].detach().numpy()-train_y[i].numpy())**2\n",
        "  sum_diff += np.sum(upper.detach().numpy())-np.sum(lower.detach().numpy())\n",
        "\n",
        "  return r2_square,sum_diff\n",
        "    \n",
        "def get_best_fit_gp(train_x,train_y,n_trials=3):\n",
        "  ''' generates and train n_trials number of models and return the model that fits the data in the best way by using r2 square metric. '''\n",
        "  ## Use MLL if it gives poor result.\n",
        "  best_state = {}\n",
        "  r2_square = 1e9\n",
        "  for i in range(n_trials):\n",
        "    likelihood = gpytorch.likelihoods.GaussianLikelihood()\n",
        "    model = AleboGP(train_x, train_y, likelihood,B)\n",
        "\n",
        "    model,likelihood = train(model,likelihood,train_x,train_y)\n",
        "\n",
        "    r2_square_i,sum_diff_i = get_r2_square(model,likelihood,train_x,train_y)\n",
        "\n",
        "    if r2_square_i < r2_square:\n",
        "      best_state = model.state_dict()\n",
        "      r2_square = r2_square_i\n",
        "  \n",
        "  best_likelihood =gpytorch.likelihoods.GaussianLikelihood()\n",
        "  best_model = AleboGP(train_x, train_y, likelihood,B)\n",
        "  best_model.state_dict(best_state)\n",
        "\n",
        "  return best_likelihood,best_model\n",
        "\n",
        "\n",
        "# def sample_U(likelihood,model,nsamp=10):\n",
        "  # return list of Uvec for each model\n",
        "likelihood, model = get_best_fit_gp(train_x @ B.t(),train_y)\n",
        "\n"
      ],
      "execution_count": null,
      "outputs": []
    },
    {
      "cell_type": "code",
      "metadata": {
        "id": "7yTaU6Od992q"
      },
      "source": [
        "model.eval()\n",
        "likelihood.eval()\n",
        "\n",
        "observed_pred = likelihood(model(train_x @ B.t()))\n",
        "lower,upper = observed_pred.confidence_region()\n",
        "\n",
        "\n",
        "plt.plot(train_y, observed_pred.mean.detach().numpy(),'bo' ,label=\"Pred\")\n",
        "plt.plot(train_y,train_y,label='Ideal')\n",
        "plt.legend()"
      ],
      "execution_count": null,
      "outputs": []
    },
    {
      "cell_type": "code",
      "metadata": {
        "id": "kzLVvlj0C-k6"
      },
      "source": [
        "def double_derivative(i,epsilon_i,m1,m2,l1,l2,train_x,train_y):\n",
        "    '''Function which takes the models m1 and m2 (m2 is for m1+epsilon)\n",
        "        and returns the double derivative for i-th component'''\n",
        "    g1 = (m1.covar_module.base_kernel.Uvec.grad)\n",
        "    g2 = calc_grad(m2,l2,train_x,train_y)\n",
        "    return (g2[i] - g1[i])/epsilon_i\n",
        "\n",
        "\n",
        "def print_param(model):\n",
        "  print()\n",
        "  for x in model.named_parameters():\n",
        "      print(x)\n",
        "  print()\n",
        "\n",
        "def update_Uvec(model,likelihood,i,ep):\n",
        "  ''' updates the ith element of Uvec model parameter from Uvec[i] to Uvec[i]+ep and returns the model with updated parameters'''\n",
        "  model_copy = copy.deepcopy(model)\n",
        "  print_param(model_copy)\n",
        "  Uvec = model_copy.covar_module.base_kernel.Uvec\n",
        "  model_copy.covar_module.base_kernel.Uvec.requires_grad_(False)\n",
        "  Uvec[i] = Uvec[i]+ep\n",
        "  model_copy.covar_module.base_kernel.Uvec.requires_grad_(True)\n",
        "  print_param(model_copy)\n",
        "\n",
        "  return model_copy,likelihood\n",
        "\n",
        "\n",
        "def sample_U(model,likelihood,train_x,train_y,n=5):\n",
        "  '''Takes best fit model and return n model where each model's Uvec is sampled from laplace approx of MAP model(model,likelihood)'''\n",
        "  Uvec = model.covar_module.base_kernel.Uvec\n",
        "  mean_constant = model.mean_module.constant\n",
        "  output_scale = model.covar_module.raw_outputscale\n",
        "  noise_covar = model.likelihood.noise_covar.raw_noise\n",
        "\n",
        "  hessian = np.zeros((Uvec.shape[0],Uvec.shape[0]))\n",
        "  ep = 1e-3 * np.abs(Uvec.detach().numpy()) + 1e-4\n",
        "  for j in range(Uvec.shape[0]):\n",
        "    m2,l2 = update_Uvec(model,likelihood,j,ep[j])\n",
        "    hessian[j,j] = double_derivative(j,ep[j],model,m2,likelihood,l2,train_x,train_y)\n",
        "  \n",
        "  print(hessian)\n",
        "  Sigma = np.linalg.inv(-hessian)\n",
        "  samples = np.random.multivariate_normal(mean=Uvec.detach().numpy(), cov=Sigma, size=(n - 1))\n",
        "  \n",
        "\n",
        "  m_list = [model]\n",
        "  l_list = [likelihood]\n",
        "\n",
        "  for i in range(n-1):\n",
        "    new_model = copy.deepcopy(model)\n",
        "    new_likelihood = copy.deepcopy(likelihood)\n",
        "    new_model.train()\n",
        "    \n",
        "\n",
        "    new_Uvec = torch.tensor(samples[i])\n",
        "    new_model.covar_module.base_kernel.Uvec.requires_grad_(False)\n",
        "    new_model.covar_module.base_kernel.Uvec.copy_(new_Uvec)\n",
        "    new_model.covar_module.base_kernel.Uvec.requires_grad_(False)\n",
        "\n",
        "    new_model.eval()\n",
        "    new_model,new_likelihood = train(new_model,new_likelihood,train_x,train_y)\n",
        "\n",
        "    m_list.append(new_model)\n",
        "    l_list.append(new_likelihood)\n",
        "\n",
        "  \n",
        "  return m_list,l_list\n",
        "\n",
        "\n",
        "\n",
        "m_list,l_list = sample_U(model,likelihood,train_x @ B.t(),train_y)\n",
        "\n",
        "\n",
        "\n",
        "# update_Uvec(model,likelihood,0,torch.tensor(1))\n",
        "\n"
      ],
      "execution_count": null,
      "outputs": []
    },
    {
      "cell_type": "code",
      "metadata": {
        "colab": {
          "base_uri": "https://localhost:8080/",
          "height": 317
        },
        "id": "N082Y_JJoWKR",
        "outputId": "27e26820-d9e5-40c5-f256-ffecd72672cd"
      },
      "source": [
        "def get_final_pred(models,likelihoods,test_x): # test_x is in n*d dimensions.returns means,variances\n",
        "    preds = [likelihood(model(test_x)) for likelihood,model in zip(likelihoods,models)]\n",
        "    means = torch.tensor([[y.mean for y in x] for x in preds]).t()\n",
        "    variances = torch.tensor([[y.variance for y in x] for x in preds]).t()\n",
        "    mu = torch.mean(means,axis=1)\n",
        "    variance = torch.mean(variances,axis=1) + torch.var(means,axis=1,unbiased=False)\n",
        "    return mu,variance\n",
        "\n",
        "model.eval()\n",
        "likelihood.eval()\n",
        "\n",
        "# observed_pred = likelihood(model(train_x @ B.t()))\n",
        "# lower,upper = observed_pred.confidence_region()\n",
        "y_pred,_ = get_final_pred(m_list,l_list,train_x_d)\n",
        "\n",
        "plt.plot(train_y, y_pred,'bo' ,label=\"Pred\")\n",
        "plt.plot(train_y,train_y,label='Ideal')\n",
        "plt.legend()"
      ],
      "execution_count": 121,
      "outputs": [
        {
          "output_type": "stream",
          "text": [
            "/usr/local/lib/python3.7/dist-packages/gpytorch/models/exact_gp.py:275: GPInputWarning: The input matches the stored training data. Did you forget to call model.train()?\n",
            "  GPInputWarning,\n"
          ],
          "name": "stderr"
        },
        {
          "output_type": "execute_result",
          "data": {
            "text/plain": [
              "<matplotlib.legend.Legend at 0x7f636f1d2590>"
            ]
          },
          "metadata": {
            "tags": []
          },
          "execution_count": 121
        },
        {
          "output_type": "display_data",
          "data": {
            "image/png": "[encoded data removed]",
            "text/plain": [
              "<Figure size 432x288 with 1 Axes>"
            ]
          },
          "metadata": {
            "tags": [],
            "needs_background": "light"
          }
        }
      ]
    },
    {
      "cell_type": "code",
      "metadata": {
        "colab": {
          "base_uri": "https://localhost:8080/"
        },
        "id": "xuz4CZr7-Ea2",
        "outputId": "52dab5ee-0544-4476-ec58-f7452b38b7bd"
      },
      "source": [
        "def constrained_minimize(objective,Binv,x0):\n",
        "    def constraint_generator_minus_1(Binv,i):\n",
        "        def con(x):\n",
        "            x_D = Binv @ x\n",
        "            return x_D[i]+1\n",
        "        return con\n",
        "    def constraint_generator_plus_1(Binv,i):\n",
        "        def con(x):\n",
        "            x_D = Binv @ x\n",
        "            return 1-x_D[i]\n",
        "        return con\n",
        "    constraints_fun = []\n",
        "    for i in range(B.shape[0]):\n",
        "        constraints_fun.append(constraint_generator_minus_1(Binv,i))\n",
        "        constraints_fun.append(constraint_generator_plus_1(Binv,i))\n",
        "    constraints = [{'type':'ineq', 'fun':fun} for fun in constraints_fun]\n",
        "    print(constraints)\n",
        "    candidate = minimize(objective,x0,constraints=constraints,method='SLSQP')\n",
        "    return candidate\n",
        "            \n",
        "\n",
        "\n",
        "def objective(x):\n",
        "    print(\"x=\",x)\n",
        "    return x.sum()\n",
        "B = np.eye(3)\n",
        "x0 = np.array([0.5,0.5,0.5])\n",
        "constrained_minimize(objective,B,x0)"
      ],
      "execution_count": 118,
      "outputs": [
        {
          "output_type": "stream",
          "text": [
            "[{'type': 'ineq', 'fun': <function constrained_minimize.<locals>.constraint_generator_minus_1.<locals>.con at 0x7f636f28fe60>}, {'type': 'ineq', 'fun': <function constrained_minimize.<locals>.constraint_generator_plus_1.<locals>.con at 0x7f636f28fb00>}, {'type': 'ineq', 'fun': <function constrained_minimize.<locals>.constraint_generator_minus_1.<locals>.con at 0x7f636f28f8c0>}, {'type': 'ineq', 'fun': <function constrained_minimize.<locals>.constraint_generator_plus_1.<locals>.con at 0x7f636f28f830>}, {'type': 'ineq', 'fun': <function constrained_minimize.<locals>.constraint_generator_minus_1.<locals>.con at 0x7f636f28fdd0>}, {'type': 'ineq', 'fun': <function constrained_minimize.<locals>.constraint_generator_plus_1.<locals>.con at 0x7f636f28fef0>}]\n",
            "x= [0.5 0.5 0.5]\n",
            "x= [0.5 0.5 0.5]\n",
            "x= [0.50000001 0.5        0.5       ]\n",
            "x= [0.5        0.50000001 0.5       ]\n",
            "x= [0.5        0.5        0.50000001]\n",
            "x= [-0.5 -0.5 -0.5]\n",
            "x= [-0.5 -0.5 -0.5]\n",
            "x= [-0.49999999 -0.5        -0.5       ]\n",
            "x= [-0.5        -0.49999999 -0.5       ]\n",
            "x= [-0.5        -0.5        -0.49999999]\n",
            "x= [-1. -1. -1.]\n",
            "x= [-1. -1. -1.]\n",
            "x= [-0.99999999 -1.         -1.        ]\n",
            "x= [-1.         -0.99999999 -1.        ]\n",
            "x= [-1.         -1.         -0.99999999]\n"
          ],
          "name": "stdout"
        },
        {
          "output_type": "execute_result",
          "data": {
            "text/plain": [
              "     fun: -3.0000000000000133\n",
              "     jac: array([1., 1., 1.])\n",
              " message: 'Optimization terminated successfully.'\n",
              "    nfev: 15\n",
              "     nit: 3\n",
              "    njev: 3\n",
              "  status: 0\n",
              " success: True\n",
              "       x: array([-1., -1., -1.])"
            ]
          },
          "metadata": {
            "tags": []
          },
          "execution_count": 118
        }
      ]
    },
    {
      "cell_type": "code",
      "metadata": {
        "id": "-N4L_HA1DbEl"
      },
      "source": [
        ""
      ],
      "execution_count": null,
      "outputs": []
    }
  ]
}