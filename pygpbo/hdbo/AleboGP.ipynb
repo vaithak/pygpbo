{
  "nbformat": 4,
  "nbformat_minor": 0,
  "metadata": {
    "colab": {
      "name": "AleboGP.ipynb",
      "provenance": [],
      "collapsed_sections": []
    },
    "kernelspec": {
      "name": "python3",
      "display_name": "Python 3"
    },
    "language_info": {
      "name": "python"
    }
  },
  "cells": [
    {
      "cell_type": "code",
      "metadata": {
        "colab": {
          "base_uri": "https://localhost:8080/"
        },
        "id": "N1n3QPLfkDBW",
        "outputId": "244493e4-588c-43b0-a6cc-4e0d812f0f55"
      },
      "source": [
        "import numpy as np\n",
        "import torch\n",
        "import math\n",
        "!pip install gpytorch\n",
        "import gpytorch\n",
        "from gpytorch.kernels.rbf_kernel import postprocess_rbf\n",
        "from matplotlib import pyplot as plt\n",
        "\n",
        "from collections import OrderedDict\n",
        "import copy"
      ],
      "execution_count": 138,
      "outputs": [
        {
          "output_type": "stream",
          "text": [
            "Requirement already satisfied: gpytorch in /usr/local/lib/python3.7/dist-packages (1.4.0)\n"
          ],
          "name": "stdout"
        }
      ]
    },
    {
      "cell_type": "code",
      "metadata": {
        "colab": {
          "base_uri": "https://localhost:8080/"
        },
        "id": "B4GTLXyml8iS",
        "outputId": "8d9f39d0-545e-4448-e9c7-b3b0f59dac37"
      },
      "source": [
        "\n",
        "def function(X,noise=0):\n",
        "  def func(x):\n",
        "    return (math.pow((x[1]-5.1/(4*math.pow(3.14,2))*math.pow(x[0],2)+5/3.14*x[0]-6),2)+10*(1-1/(8*3.14))*math.cos(x[0])+10)*math.sin(x[2]/5)\n",
        "  return torch.tensor(np.apply_along_axis(func, 1, X).reshape(-1,1),dtype = torch.float32)\n",
        "\n",
        "batch_shape = torch.Size([1])\n",
        "a1 = torch.linspace(-5, 10, 10)\n",
        "a2 = torch.linspace(0, 15, 10)\n",
        "a3 = torch.linspace(-5,5,10)\n",
        "train_x = torch.zeros((10*10*10,3),dtype=torch.float32)\n",
        "ctr=0\n",
        "for i1 in a1:\n",
        "    for i2 in a2:\n",
        "        for i3 in a3:\n",
        "            train_x[ctr,0] = i1\n",
        "            train_x[ctr,1] = i2\n",
        "            train_x[ctr,2] = i3\n",
        "            ctr+=1\n",
        "B = torch.tensor(get_proj_matrix(3,2,1),dtype=torch.float32)\n",
        "train_x_d = (train_x @ B.t())\n",
        "train_y = function(train_x)\n",
        "train_y = train_y.squeeze(1)\n",
        "\n",
        "def get_proj_matrix(D,d,hypersphere=0):\n",
        "  ''' Takes three arguments D : column size, d : row size and hypersphere = 0/1 (if hypersphere is 1 then sample each row of B from S^{D-1} else from N(0,1))\n",
        "  returns a random B matrix of shape d x D '''\n",
        "  A = np.random.normal(0,1,(d,D))\n",
        "  if hypersphere==1:\n",
        "    for row in range(d):\n",
        "      N = np.linalg.norm(A[row,:])\n",
        "      A[row,:] = A[row,:]/N\n",
        "  return A\n",
        "\n",
        "\n",
        "\n",
        "class AleboKernel(gpytorch.kernels.Kernel):\n",
        "  ''' creates instances of alebo kernel in which distance metric is mahalonobis instead of euclidean distance.'''\n",
        "  def __init__(self,B):\n",
        "    super().__init__(has_length=False,ard_num_dims=None,eps=0.0)\n",
        "    self.d = B.shape[0]\n",
        "    self.D = B.shape[1]\n",
        "    self.B = B\n",
        "    self.Binv = torch.pinverse(B)\n",
        "    # self.dtype = B.dtype\n",
        "    # self.batch_shape = batch_shape\n",
        "\n",
        "    A = torch.qr(torch.randn(self.D,self.D))[0]\n",
        "    ABinv = A[:self.d,:] @ self.Binv\n",
        "    T = ABinv.t() @ ABinv\n",
        "    U = torch.cholesky(T,upper = True)\n",
        "    self.idx = U.nonzero().t().tolist()\n",
        "    Uvec = U[self.idx]#.repeat(*batch_shape,1)\n",
        "    print(Uvec)\n",
        "    self.register_parameter(name = \"Uvec\",parameter=torch.nn.Parameter(Uvec))\n",
        "    \n",
        "  def forward(self,x1,x2,**params):\n",
        "    U_t = torch.zeros(self.Uvec.shape[:-1]+torch.Size([self.d,self.d]))\n",
        "    U_t[...,self.idx[1],self.idx[0]] = self.Uvec\n",
        "\n",
        "    z1 = x1 @ U_t\n",
        "    z2 = x2 @ U_t\n",
        "\n",
        "    return self.covar_dist(z1,z2,square_dist=True,dist_postprocess_func=postprocess_rbf,**params)\n",
        "\n",
        "class AleboGP(gpytorch.models.ExactGP):\n",
        "  ''' Creates instance of Alebo GP by taking into account the mahalonobis kernel '''\n",
        "  def __init__(self, train_x, train_y, likelihood,B):\n",
        "    super().__init__(train_x, train_y, likelihood)\n",
        "    self.covar_module = gpytorch.kernels.ScaleKernel(base_kernel=AleboKernel(B=B))\n",
        "    self.mean_module = gpytorch.means.ConstantMean()\n",
        "  def forward(self,x):\n",
        "    mean_x = self.mean_module(x)\n",
        "    covar_x = self.covar_module(x)\n",
        "    return gpytorch.distributions.MultivariateNormal(mean_x, covar_x)\n",
        "\n",
        "\n",
        "likelihood = gpytorch.likelihoods.GaussianLikelihood()\n",
        "model = AleboGP(train_x_d, train_y, likelihood,B)\n"
      ],
      "execution_count": 140,
      "outputs": [
        {
          "output_type": "stream",
          "text": [
            "tensor([ 0.3308, -0.8917,  0.5242])\n"
          ],
          "name": "stdout"
        }
      ]
    },
    {
      "cell_type": "code",
      "metadata": {
        "id": "hiwpMOWdOZTm"
      },
      "source": [
        "def train(model,likelihood,train_x,train_y,training_iter=50):\n",
        "  ''' Takes model and training data and return the optimised parameter of the AleboGP model'''\n",
        "# training_iter = 50\n",
        "  model.train()\n",
        "  likelihood.train()\n",
        "\n",
        "  optimizer = torch.optim.Adam(model.parameters(), lr=0.1) \n",
        "\n",
        "  mll = gpytorch.mlls.ExactMarginalLogLikelihood(likelihood, model)\n",
        "\n",
        "\n",
        "  for i in range(training_iter):\n",
        "      optimizer.zero_grad()\n",
        "      output = model(train_x)\n",
        "  \n",
        "      loss = -mll(output, train_y).sum()\n",
        "      loss.backward()\n",
        "      optimizer.step()\n",
        "      params_dict = OrderedDict(mll.named_parameters())\n",
        "\n",
        "  \n",
        "  model.eval()\n",
        "  likelihood.eval()\n",
        "\n",
        "  return model,likelihood\n",
        "\n",
        "model,likelihood = train(model,likelihood,train_x_d,train_y,1)"
      ],
      "execution_count": 114,
      "outputs": []
    },
    {
      "cell_type": "code",
      "metadata": {
        "colab": {
          "base_uri": "https://localhost:8080/"
        },
        "id": "gc-_keiie6Z0",
        "outputId": "3a08e653-dba1-44d4-8df8-e9be8868a18e"
      },
      "source": [
        "def get_r2_square(model,likelihood,train_x,train_y):\n",
        "  ''' takes mode and training data and calculates r2 square score for of the model on the data'''\n",
        "  observed_pred = likelihood(model(train_x))\n",
        "  lower,upper = observed_pred.confidence_region()\n",
        "  r2_square = 0\n",
        "  sum_diff = 0\n",
        "  for i in range(train_x.shape[0]):\n",
        "    r2_square += (observed_pred.mean[i].detach().numpy()-train_y[i].numpy())**2\n",
        "  sum_diff += np.sum(upper.detach().numpy())-np.sum(lower.detach().numpy())\n",
        "\n",
        "  return r2_square,sum_diff\n",
        "    \n",
        "def get_best_fit_gp(train_x,train_y,n_trials=10):\n",
        "  ''' generates and train n_trials number of models and return the model that fits the data in the best way by using r2 square metric. '''\n",
        "  ## Use MLL if it gives poor result.\n",
        "  best_state = {}\n",
        "  r2_square = 1e9\n",
        "  for i in range(n_trials):\n",
        "    likelihood = gpytorch.likelihoods.GaussianLikelihood()\n",
        "    model = AleboGP(train_x, train_y, likelihood,B)\n",
        "\n",
        "    model,likelihood = train(model,likelihood,train_x,train_y)\n",
        "\n",
        "    r2_square_i,sum_diff_i = get_r2_square(model,likelihood,train_x,train_y)\n",
        "\n",
        "    if r2_square_i < r2_square:\n",
        "      best_state = model.state_dict()\n",
        "      r2_square = r2_square_i\n",
        "  \n",
        "  best_likelihood =gpytorch.likelihoods.GaussianLikelihood()\n",
        "  best_model = AleboGP(train_x, train_y, likelihood,B)\n",
        "  best_model.state_dict(best_state)\n",
        "\n",
        "  return best_likelihood,best_model\n",
        "\n",
        "\n",
        "# def sample_U(likelihood,model,nsamp=10):\n",
        "  # return list of Uvec for each model\n",
        "likelihood, model = get_best_fit_gp(train_x @ B.t(),train_y)\n",
        "\n"
      ],
      "execution_count": 117,
      "outputs": [
        {
          "output_type": "stream",
          "text": [
            "/usr/local/lib/python3.7/dist-packages/gpytorch/models/exact_gp.py:275: GPInputWarning: The input matches the stored training data. Did you forget to call model.train()?\n",
            "  GPInputWarning,\n"
          ],
          "name": "stderr"
        }
      ]
    },
    {
      "cell_type": "code",
      "metadata": {
        "id": "pTBhEaTo88bU"
      },
      "source": [
        "def get_param_hessian(model,likelihood,x0):\n",
        "  ## x0 is the model parameter at which we have to return  grad\n",
        "\n",
        "  model.train()\n",
        "  likelihood.train()\n",
        "\n",
        "  mll = gpytorch.mlls.ExactMarginalLogLikelihood(likelihood, model)\n",
        "  mll = set_param(mll,x0)\n",
        "  Uvev_0 = np.array([])\n",
        "  for x in mll.named_parameters():\n",
        "    param_name = x[0]\n",
        "    # param_grad = \n",
        "  \n",
        "  "
      ],
      "execution_count": 75,
      "outputs": []
    },
    {
      "cell_type": "code",
      "metadata": {
        "colab": {
          "base_uri": "https://localhost:8080/",
          "height": 337
        },
        "id": "7yTaU6Od992q",
        "outputId": "f5522d32-3d8c-4b7d-c25c-9222af5bfd3f"
      },
      "source": [
        "model.eval()\n",
        "likelihood.eval()\n",
        "\n",
        "observed_pred = likelihood(model(train_x @ B.t()))\n",
        "lower,upper = observed_pred.confidence_region()\n",
        "\n",
        "\n",
        "plt.plot(train_y, observed_pred.mean.detach().numpy(),'bo' ,label=\"Pred\")\n",
        "plt.plot(train_y,train_y,label='Ideal')\n",
        "plt.legend()"
      ],
      "execution_count": 118,
      "outputs": [
        {
          "output_type": "stream",
          "text": [
            "/usr/local/lib/python3.7/dist-packages/gpytorch/models/exact_gp.py:275: GPInputWarning: The input matches the stored training data. Did you forget to call model.train()?\n",
            "  GPInputWarning,\n"
          ],
          "name": "stderr"
        },
        {
          "output_type": "execute_result",
          "data": {
            "text/plain": [
              "<matplotlib.legend.Legend at 0x7fa99451a150>"
            ]
          },
          "metadata": {
            "tags": []
          },
          "execution_count": 118
        },
        {
          "output_type": "display_data",
          "data": {
            "image/png": "[encoded data removed]",
            "text/plain": [
              "<Figure size 432x288 with 1 Axes>"
            ]
          },
          "metadata": {
            "tags": [],
            "needs_background": "light"
          }
        }
      ]
    },
    {
      "cell_type": "code",
      "metadata": {
        "colab": {
          "base_uri": "https://localhost:8080/"
        },
        "id": "kzLVvlj0C-k6",
        "outputId": "712f23ce-c9be-4475-9dc2-6c151b0e5783"
      },
      "source": [
        "def double_derivative(i,epsilon_i,m1,m2,l1,l2,train_x,train_y,training_iter):\n",
        "    '''Function which takes the models m1 and m2 (m2 is for m1+epsilon)\n",
        "        and returns the double derivative for i-th component'''\n",
        "    m1,l1 = train(m1,l1,train_x,train_y,training_iter)\n",
        "    m2,l2 = train(m2,l2,train_x,train_y,training_iter)\n",
        "    g1 = (m1.covar_module.base_kernel.Uvec.grad)\n",
        "    g2 = (m2.covar_module.base_kernel.Uvec.grad)\n",
        "    return (g2[i] - g1[i])/epsilon_i\n",
        "\n",
        "\n",
        "def print_param(model):\n",
        "  print()\n",
        "  for x in model.named_parameters():\n",
        "      print(x)\n",
        "  print()\n",
        "\n",
        "def update_Uvec(model,likelihood,i,ep):\n",
        "  ''' updates the ith element of Uvec model parameter from Uvec[i] to Uvec[i]+ep and returns the model with updated parameters'''\n",
        "  model_copy = copy.deepcopy(model)\n",
        "  print_param(model_copy)\n",
        "  Uvec = model_copy.covar_module.base_kernel.Uvec\n",
        "  model_copy.covar_module.base_kernel.Uvec.requires_grad_(False)\n",
        "  Uvec[i] = Uvec[i]+ep\n",
        "  model_copy.covar_module.base_kernel.Uvec.requires_grad_(True)\n",
        "  print_param(model_copy)\n",
        "\n",
        "\n",
        "  \n",
        "update_Uvec(model,likelihood,0,torch.tensor(1))\n",
        "\n"
      ],
      "execution_count": 141,
      "outputs": [
        {
          "output_type": "stream",
          "text": [
            "\n",
            "('likelihood.noise_covar.raw_noise', Parameter containing:\n",
            "tensor([0.], requires_grad=True))\n",
            "('covar_module.raw_outputscale', Parameter containing:\n",
            "tensor(0., requires_grad=True))\n",
            "('covar_module.base_kernel.Uvec', Parameter containing:\n",
            "tensor([ 0.3308, -0.8917,  0.5242], requires_grad=True))\n",
            "('mean_module.constant', Parameter containing:\n",
            "tensor([0.], requires_grad=True))\n",
            "\n",
            "Parameter containing:\n",
            "tensor([ 0.3308, -0.8917,  0.5242], requires_grad=True)\n",
            "tensor(0.3308, grad_fn=<SelectBackward>)\n",
            "tensor(1.3308)\n",
            "\n",
            "('likelihood.noise_covar.raw_noise', Parameter containing:\n",
            "tensor([0.], requires_grad=True))\n",
            "('covar_module.raw_outputscale', Parameter containing:\n",
            "tensor(0., requires_grad=True))\n",
            "('covar_module.base_kernel.Uvec', Parameter containing:\n",
            "tensor([ 1.3308, -0.8917,  0.5242], requires_grad=True))\n",
            "('mean_module.constant', Parameter containing:\n",
            "tensor([0.], requires_grad=True))\n",
            "\n"
          ],
          "name": "stdout"
        }
      ]
    },
    {
      "cell_type": "code",
      "metadata": {
        "id": "5CanWYC3Yov_"
      },
      "source": [
        ""
      ],
      "execution_count": null,
      "outputs": []
    }
  ]
}