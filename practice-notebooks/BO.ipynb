{
  "nbformat": 4,
  "nbformat_minor": 0,
  "metadata": {
    "colab": {
      "name": "BO.ipynb",
      "provenance": []
    },
    "kernelspec": {
      "name": "python3",
      "display_name": "Python 3"
    }
  },
  "cells": [
    {
      "cell_type": "code",
      "metadata": {
        "id": "4Cmw2pFjWQvf"
      },
      "source": [
        "import numpy as np\n",
        "from scipy.stats import norm\n",
        "from scipy.optimize import minimize, rosen\n",
        "import sklearn.gaussian_process as gp\n",
        "from sklearn.gaussian_process import GaussianProcessRegressor\n",
        "from sklearn.gaussian_process.kernels import ConstantKernel, Matern\n",
        "import math\n",
        "import matplotlib.pyplot as plt\n",
        "import warnings\n",
        "warnings.filterwarnings(\"ignore\")"
      ],
      "execution_count": 2,
      "outputs": []
    },
    {
      "cell_type": "code",
      "metadata": {
        "colab": {
          "base_uri": "https://localhost:8080/"
        },
        "id": "Lb8LTLt6Wq0N",
        "outputId": "cef6afbc-a8f0-407f-e89e-9ce83ae3ae00"
      },
      "source": [
        "lbound = -1\n",
        "rbound = 2\n",
        "X = np.arange(lbound,rbound, 0.01).reshape(-1, 1)\n",
        "def function(X,noise=0):\n",
        "  return -np.sin(3*X) - X**2 + 0.7*X + noise * np.random.randn(*X.shape)\n",
        "  # return (math.pow((x2-5.1/(4*math.pow(3.14,2))*math.pow(x1,2)+5/3.14*x1-6),2)+10*(1-1/(8*3.14))*math.cos(x1)+10)\n",
        "\n",
        "function(np.array([[-0.36],[5]]))"
      ],
      "execution_count": 69,
      "outputs": [
        {
          "output_type": "execute_result",
          "data": {
            "text/plain": [
              "array([[  0.50035781],\n",
              "       [-22.15028784]])"
            ]
          },
          "metadata": {
            "tags": []
          },
          "execution_count": 69
        }
      ]
    },
    {
      "cell_type": "code",
      "metadata": {
        "colab": {
          "base_uri": "https://localhost:8080/"
        },
        "id": "aF7TRiGfYDNd",
        "outputId": "bba8aa0a-780b-48e1-c092-2c5ef7b7340a"
      },
      "source": [
        "a = np.linspace(-1,2,100)\n",
        "l = []\n",
        "for x in a:\n",
        "  l.append(function(x))\n",
        "print(np.max(l))"
      ],
      "execution_count": 6,
      "outputs": [
        {
          "output_type": "stream",
          "text": [
            "0.500270129755324\n"
          ],
          "name": "stdout"
        }
      ]
    },
    {
      "cell_type": "code",
      "metadata": {
        "id": "T0R0zcyRg4mB"
      },
      "source": [
        "## return probability of improvement for random sample/s X\n",
        "def PI(X,X_t,gpr,e):\n",
        "  y_t = gpr.predict(X_t)\n",
        "  X = X.reshape((-1,1))\n",
        "  y,std = gpr.predict(X,return_std=True)\n",
        "  std = std.reshape(-1,1)\n",
        "  best_y = np.max(y_t)\n",
        "  return norm.cdf((y-best_y-e)/std) \n",
        "\n",
        "def EI(X,X_t,gpr,e):\n",
        "  y_t = gpr.predict(X_t)\n",
        "  X = X.reshape((-1,1))\n",
        "  y,std = gpr.predict(X,return_std=True)\n",
        "  std = std.reshape(-1,1)\n",
        "  best_y = np.max(y_t)\n",
        "\n",
        "  a = (y-best_y-e)\n",
        "  ei = a*norm.cdf(a/std) + std*norm.pdf(a/std)\n",
        "  ei[std==0] = 0\n",
        "\n",
        "  return ei\n"
      ],
      "execution_count": 25,
      "outputs": []
    },
    {
      "cell_type": "code",
      "metadata": {
        "id": "V6Sl9E-UTDw7"
      },
      "source": [
        "## function to get next point that optimise aquisition function\n",
        "def next_acquisition_point(X_t,gpr,e,trials,acq_func):\n",
        "  \n",
        "  min_val = 1\n",
        "  min_x = None\n",
        "  def min_obj(x):\n",
        "    return -acq_func(x,X_t,gpr,e)\n",
        "  random_starts = np.random.uniform(-1,2,size=(trials,1))\n",
        "  for st in random_starts:\n",
        "    candidate = minimize(min_obj,x0=st,bounds=np.array([[-1,2]]),method='L-BFGS-B')\n",
        "    if candidate.fun < min_val:\n",
        "      min_val = candidate.fun\n",
        "      min_x = candidate.x\n",
        "  return min_x.reshape(-1,1)\n"
      ],
      "execution_count": 35,
      "outputs": []
    },
    {
      "cell_type": "code",
      "metadata": {
        "id": "FHse6G55Uk4o"
      },
      "source": [
        "## Using BO for function optimisation\n",
        "def get_optimum(acq_func,runs=50):\n",
        "  best_val = 0.500270129755324\n",
        "  iters = 10\n",
        "  dp = np.zeros((runs,iters+1))\n",
        "\n",
        "  for run in range(runs):\n",
        "    \n",
        "    kernel = ConstantKernel(1.0) * Matern(length_scale=1.0, nu=2.5)\n",
        "    gpr = GaussianProcessRegressor(kernel=kernel, alpha=0)\n",
        "    X_t = np.array([[-0.9]])\n",
        "    y_t = function(X_t)\n",
        "    optimality_gap = best_val-y_t[0,0]\n",
        "    dp[run,0] = optimality_gap\n",
        "    for i in range(1,iters+1):\n",
        "      gpr.fit(X_t,y_t)\n",
        "\n",
        "      X_next = next_acquisition_point(X_t,gpr,0.01,10,acq_func)\n",
        "      y_next = function(X_next)\n",
        "\n",
        "      X_t = np.concatenate((X_t,X_next),axis=0)\n",
        "      y_t = np.concatenate((y_t,y_next),axis=0)\n",
        "\n",
        "      if runs==1:\n",
        "        print(X_t)\n",
        "        print(y_t)\n",
        "      if best_val-y_t[i,0] < optimality_gap:\n",
        "        optimality_gap = best_val-y_t[i,0]\n",
        "      \n",
        "      dp[run,i] = optimality_gap\n",
        "\n",
        "  return dp\n",
        "\n",
        "dp_PI = get_optimum(PI)\n",
        "dp_EI = get_optimum(EI)"
      ],
      "execution_count": 37,
      "outputs": []
    },
    {
      "cell_type": "code",
      "metadata": {
        "id": "At0Z1sw5wq0b",
        "colab": {
          "base_uri": "https://localhost:8080/",
          "height": 366
        },
        "outputId": "397e5b68-f6e2-4c8b-b4de-86d61d73d18e"
      },
      "source": [
        "## plot showing optimality gap between max value obtained in each iteration and best value that can be obtained in the bound for two different aquisition functions - PI and EI. \n",
        "x = range(11)\n",
        "y = []\n",
        "y1 = []\n",
        "y2 = []\n",
        "for i in range(11):\n",
        "  mean = np.mean(dp_PI[:,i])\n",
        "  dev_up = np.max(dp_PI[:,i])\n",
        "  dev_down = np.min(dp_PI[:,i])\n",
        "  y.append(mean)\n",
        "  y1.append(dev_up)\n",
        "  y2.append(dev_down)\n",
        "fig = plt.figure(num=1, figsize=(5, 5), dpi=80, facecolor='w', edgecolor='k')\n",
        "ax = fig.add_subplot(111)\n",
        "ax.fill_between(x, y1, y2, color=\"crimson\", alpha=0.4,label='PI')\n",
        "x = range(11)\n",
        "y = []\n",
        "y1 = []\n",
        "y2 = []\n",
        "for i in range(11):\n",
        "  mean = np.mean(dp_EI[:,i])\n",
        "  dev_up = np.max(dp_EI[:,i])\n",
        "  dev_down = np.min(dp_EI[:,i])\n",
        "  y.append(mean)\n",
        "  y1.append(dev_up)\n",
        "  y2.append(dev_down)\n",
        "\n",
        "ax.fill_between(x, y1, y2, color=\"blue\", alpha=0.4,label = 'EI')\n",
        "ax.legend(loc='upper right', borderpad=1, labelspacing=1,prop={'size':15})\n",
        "ax.set_ylabel(\"Optimality Gap\")\n",
        "ax.set_xlabel(\"Iteration no.\")\n",
        "plt.show(1)"
      ],
      "execution_count": 68,
      "outputs": [
        {
          "output_type": "display_data",
          "data": {
            "image/png": "[encoded data removed]",
            "text/plain": [
              "<Figure size 400x400 with 1 Axes>"
            ]
          },
          "metadata": {
            "tags": []
          }
        }
      ]
    },
    {
      "cell_type": "code",
      "metadata": {
        "id": "Lg2VEuVvtT7J"
      },
      "source": [
        ""
      ],
      "execution_count": null,
      "outputs": []
    }
  ]
}